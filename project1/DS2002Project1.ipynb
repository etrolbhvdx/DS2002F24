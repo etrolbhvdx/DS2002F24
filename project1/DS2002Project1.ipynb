{
  "nbformat": 4,
  "nbformat_minor": 0,
  "metadata": {
    "colab": {
      "provenance": []
    },
    "kernelspec": {
      "name": "python3",
      "display_name": "Python 3"
    },
    "language_info": {
      "name": "python"
    }
  },
  "cells": [
    {
      "cell_type": "markdown",
      "source": [
        "#**DS 2002 Project**"
      ],
      "metadata": {
        "id": "Tlr1yXNqVTFF"
      }
    },
    {
      "cell_type": "code",
      "execution_count": null,
      "metadata": {
        "id": "KC6Jk60ZEsiZ"
      },
      "outputs": [],
      "source": [
        "import pandas as pd\n",
        "import json\n",
        "import sqlite3\n",
        "\n",
        "#This function takes a csv or json file and target file type and converts the file to the desired format\n",
        "def convert_file(input_file, target_type):\n",
        "    if input_file.endswith('.csv'):\n",
        "        df = pd.read_csv(input_file)\n",
        "    elif input_file.endswith('.json'):\n",
        "        df = pd.read_json(input_file)\n",
        "    else:\n",
        "        raise ValueError(\"Unsupported file type. Please provide a .csv or .json file.\")\n",
        "\n",
        "    if target_type == 'json':\n",
        "        output_file = input_file.replace('.csv', '.json').replace('.json', '.json')\n",
        "        df.to_json(output_file, orient='records')\n",
        "    elif target_type == 'csv':\n",
        "        output_file = input_file.replace('.json', '.csv').replace('.csv', '.csv')\n",
        "        df.to_csv(output_file, index=False)\n",
        "    elif target_type == 'sql':\n",
        "        output_file = input_file.replace('.json', '.db').replace('.csv', '.db')\n",
        "        conn = sqlite3.connect(output_file)\n",
        "        df.to_sql('data', conn, if_exists='replace', index=False)\n",
        "        conn.close()\n",
        "    else:\n",
        "        raise ValueError(\"Unsupported target type. Please choose 'json', 'csv', or 'sql'.\")"
      ]
    },
    {
      "cell_type": "code",
      "source": [
        "input_file = input(\"Enter the path to your input file (csv or json): \")\n",
        "target_type = input(\"Enter the desired target type (json, csv, or sql): \")\n",
        "convert_file(input_file, target_type)\n",
        "\n",
        "if target_type == 'json':\n",
        "    df = pd.read_json(input_file.replace('.csv', '.json').replace('.json', '.json'))\n",
        "elif target_type == 'csv':\n",
        "    df = pd.read_csv(input_file.replace('.json', '.csv').replace('.csv', '.csv'))\n",
        "elif target_type == 'sql':\n",
        "    conn = sqlite3.connect(input_file.replace('.json', '.db').replace('.csv', '.db'))\n",
        "    df = pd.read_sql_query(\"SELECT * FROM data\", conn)\n",
        "    conn.close()\n",
        "\n",
        "if not df.empty:\n",
        "    df = df.iloc[:, :-1]\n",
        "\n",
        "\n",
        "df['NewColumn'] = 'New'\n",
        "print(f\"Number of rows: {df.shape[0]}\")\n",
        "print(f\"Number of columns: {df.shape[1]}\")\n",
        "print(df.head())\n"
      ],
      "metadata": {
        "colab": {
          "base_uri": "https://localhost:8080/"
        },
        "id": "yDpfP8EiHNfr",
        "outputId": "de0049b4-d88b-42d4-9c32-d8d0e8a95c59"
      },
      "execution_count": null,
      "outputs": [
        {
          "output_type": "stream",
          "name": "stdout",
          "text": [
            "Enter the path to your input file (csv or json): results.csv\n",
            "Enter the desired target type (json, csv, or sql): json\n",
            "\n",
            "Basic information about the new dataset:\n",
            "Number of rows: 47598\n",
            "Number of columns: 9\n",
            "\n",
            "First few rows of the DataFrame:\n",
            "        date home_team away_team  home_score  away_score tournament     city  \\\n",
            "0 1872-11-30  Scotland   England           0           0   Friendly  Glasgow   \n",
            "1 1873-03-08   England  Scotland           4           2   Friendly   London   \n",
            "2 1874-03-07  Scotland   England           2           1   Friendly  Glasgow   \n",
            "3 1875-03-06   England  Scotland           2           2   Friendly   London   \n",
            "4 1876-03-04  Scotland   England           3           0   Friendly  Glasgow   \n",
            "\n",
            "    country  NewColumn  \n",
            "0  Scotland  New Value  \n",
            "1   England  New Value  \n",
            "2  Scotland  New Value  \n",
            "3   England  New Value  \n",
            "4  Scotland  New Value  \n"
          ]
        }
      ]
    }
  ]
}